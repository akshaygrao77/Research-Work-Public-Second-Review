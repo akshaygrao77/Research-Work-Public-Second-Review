{
  "nbformat": 4,
  "nbformat_minor": 0,
  "metadata": {
    "colab": {
      "name": "Maximum_edges.ipynb",
      "provenance": [],
      "collapsed_sections": [],
      "authorship_tag": "ABX9TyNrdz2BiB4a5CriYRpIa6VI",
      "include_colab_link": true
    },
    "kernelspec": {
      "name": "python3",
      "display_name": "Python 3"
    },
    "language_info": {
      "name": "python"
    }
  },
  "cells": [
    {
      "cell_type": "markdown",
      "metadata": {
        "id": "view-in-github",
        "colab_type": "text"
      },
      "source": [
        "<a href=\"https://colab.research.google.com/github/akshaygrao77/Research-Work-Public-Second-Review/blob/main/Maximum_edges.ipynb\" target=\"_parent\"><img src=\"https://colab.research.google.com/assets/colab-badge.svg\" alt=\"Open In Colab\"/></a>"
      ]
    },
    {
      "cell_type": "code",
      "source": [
        "from graphviz import Digraph,Source\n",
        "import numpy as np\n",
        "import math"
      ],
      "metadata": {
        "id": "y0jzyh9jcdUo"
      },
      "execution_count": null,
      "outputs": []
    },
    {
      "cell_type": "code",
      "source": [
        "from IPython import display\n",
        "from time import sleep\n",
        "import copy\n",
        "from pathlib import Path\n",
        "import csv "
      ],
      "metadata": {
        "id": "_dkrkP2aWlNI"
      },
      "execution_count": null,
      "outputs": []
    },
    {
      "cell_type": "code",
      "source": [
        "import matplotlib.pyplot as plt"
      ],
      "metadata": {
        "id": "ul68B9MUaLE0"
      },
      "execution_count": null,
      "outputs": []
    },
    {
      "cell_type": "code",
      "source": [
        "class Vertex:\n",
        "  def __init__(self,vertex_num):\n",
        "    # List of vertices(objects) towards which edge go out of current vertex\n",
        "    self.edges_out = []\n",
        "    # List of vertices(objects) from which edge come towards current vertex\n",
        "    self.edges_in = []\n",
        "    # Layer number(starts from 0 as source) in which current vertex is present\n",
        "    self.layer_num = -1\n",
        "    # Vertex number. Acts as unique identifier for vertex\n",
        "    self.vertex_num = vertex_num\n",
        "\n",
        "  def __eq__(self, other) :\n",
        "    return self.vertex_num == other.vertex_num\n",
        "  \n",
        "  def __str__(self):\n",
        "    return \"edges_out: \"+str([v.vertex_num for v in self.edges_out]) + \"\\n layer_num: \"+str(self.layer_num)+\"\\n vertex_num: \"+str(self.vertex_num)"
      ],
      "metadata": {
        "id": "17OXlIIXJg1R"
      },
      "execution_count": null,
      "outputs": []
    },
    {
      "cell_type": "code",
      "source": [
        "class Layer:\n",
        "  def __init__(self,list_of_vertices):\n",
        "    # Holds all vertex objects in current layer\n",
        "    self.list_of_vertices = list_of_vertices\n",
        "    \n",
        "  def __str__(self):\n",
        "    return \"list_of_vertices: \"+str([v.vertex_num for v in self.list_of_vertices])"
      ],
      "metadata": {
        "id": "VordDz8QFnuC"
      },
      "execution_count": null,
      "outputs": []
    },
    {
      "cell_type": "code",
      "execution_count": null,
      "metadata": {
        "id": "oQDks89PE24S"
      },
      "outputs": [],
      "source": [
        "class DAG:\n",
        "  def __init__(self):\n",
        "    # List of layer objects\n",
        "    self.layers = []\n",
        "    self.num_vertices = 0\n",
        "    self.num_edges = 0\n",
        "    self.vertex_num_vertex_obj_dict = dict()\n",
        "\n",
        "  def __str__(self):\n",
        "    layer_out = \"\"\n",
        "    for each_layer in self.layers:\n",
        "      layer_out += str(each_layer.list_of_vertices[0].layer_num)+\"-->\"+str([vertex.vertex_num for vertex in each_layer.list_of_vertices])+\"\\n\"\n",
        "    return \"num_edges: \"+str(self.num_edges) + \"\\n num_vertices: \"+str(self.num_vertices)+\"\\n layers: \"+str(layer_out)"
      ]
    },
    {
      "cell_type": "code",
      "source": [
        "class RenderEpisode:\n",
        "  def __init__(self,multi_staged_graph,title,list_of_removed_edges,edge_path_dict):\n",
        "    self.multi_staged_graph = copy.deepcopy(multi_staged_graph) \n",
        "    self.title = title\n",
        "    self.list_of_removed_edges = list_of_removed_edges.copy()\n",
        "    self.edge_path_dict = copy.deepcopy(edge_path_dict) \n"
      ],
      "metadata": {
        "id": "mrPObrEmcPAr"
      },
      "execution_count": null,
      "outputs": []
    },
    {
      "cell_type": "code",
      "source": [
        "def render_layered_digraphs(layered_dag,title,list_of_removed_edges = [],edge_path_dict={},dot=None,name=\"Graph\",uniq_prefix=\"\"):\n",
        "  if(dot is None):\n",
        "    dot = Digraph(name)\n",
        "    dot.attr(label = title,labelloc = \"t\")\n",
        "    # dot.body.append('label='+str(title))\n",
        "\n",
        "  for each_layer in layered_dag.layers:\n",
        "    for each_vertex in each_layer.list_of_vertices:\n",
        "      dot.node(str(uniq_prefix)+str(each_vertex.vertex_num),str(each_vertex.vertex_num))\n",
        "\n",
        "  for each_layer in layered_dag.layers:\n",
        "    for each_vertex in each_layer.list_of_vertices:\n",
        "      for each_dest_vertex in each_vertex.edges_out:\n",
        "        if(not(edge_path_dict is None) and (each_vertex.vertex_num,each_dest_vertex.vertex_num) in edge_path_dict):\n",
        "          dot.edge(str(uniq_prefix)+str(each_vertex.vertex_num), str(uniq_prefix)+str(each_dest_vertex.vertex_num),color=\"green\",label=str(edge_path_dict[(each_vertex.vertex_num,each_dest_vertex.vertex_num)]))\n",
        "        else:\n",
        "          dot.edge(str(uniq_prefix)+str(each_vertex.vertex_num), str(uniq_prefix)+str(each_dest_vertex.vertex_num),color=\"green\")  \n",
        "\n",
        "  for (each_src,each_dest) in list_of_removed_edges:\n",
        "    if(not(edge_path_dict is None) and (each_src.vertex_num,each_dest.vertex_num) in edge_path_dict):\n",
        "      dot.edge(str(uniq_prefix)+str(each_src.vertex_num), str(uniq_prefix)+str(each_dest.vertex_num),color=\"red\",label=str(edge_path_dict[(each_src.vertex_num,each_dest.vertex_num)]))  \n",
        "    else:\n",
        "      dot.edge(str(uniq_prefix)+str(each_src.vertex_num), str(uniq_prefix)+str(each_dest.vertex_num),color=\"red\")\n",
        "  \n",
        "  return dot"
      ],
      "metadata": {
        "id": "_Kg3jV2IcZIY"
      },
      "execution_count": null,
      "outputs": []
    },
    {
      "cell_type": "code",
      "source": [
        "def render_list_of_episodes_as_subgraph(list_of_episodes):\n",
        "  dot = Digraph()\n",
        "  for each_episode_indx in range(len(list_of_episodes)):\n",
        "    each_episode = list_of_episodes[each_episode_indx]\n",
        "    current_render = render_layered_digraphs(each_episode.multi_staged_graph,each_episode.title,each_episode.list_of_removed_edges,each_episode.edge_path_dict,None,\"cluster_\"+str(each_episode_indx),str(each_episode_indx)+\"_\")\n",
        "    dot.subgraph(current_render)\n",
        "  return dot"
      ],
      "metadata": {
        "id": "QBZW-EcUc78k"
      },
      "execution_count": null,
      "outputs": []
    },
    {
      "cell_type": "code",
      "source": [
        "def generate_DAG_skeleton_based_on_layer_config(list_of_number_vertices_in_each_layer):\n",
        "  return_dag = DAG()\n",
        "  current_vertex_no = 0\n",
        "  current_layer_num = 0\n",
        "  layers = []\n",
        "  for each_layer_no_of_vertex in list_of_number_vertices_in_each_layer:\n",
        "    current_layer_list_of_vertices = []\n",
        "    for each_vertex_in_current_layer in range(each_layer_no_of_vertex):\n",
        "      current_vertex = Vertex(current_vertex_no)\n",
        "      return_dag.vertex_num_vertex_obj_dict[current_vertex_no] = current_vertex\n",
        "      current_vertex_no += 1\n",
        "      current_vertex.layer_num = current_layer_num\n",
        "      current_layer_list_of_vertices.append(current_vertex)\n",
        "    \n",
        "    current_layer_num += 1\n",
        "    current_layer = Layer(current_layer_list_of_vertices)\n",
        "    layers.append(current_layer)\n",
        "  \n",
        "  return_dag.layers = layers\n",
        "  return_dag.num_vertices = current_vertex_no\n",
        "  \n",
        "  return return_dag"
      ],
      "metadata": {
        "id": "y0v3UUAkVHMA"
      },
      "execution_count": null,
      "outputs": []
    },
    {
      "cell_type": "code",
      "source": [
        "def generate_DAG_based_on_layer_config(list_of_number_vertices_in_each_layer,mode=\"FULLY_TRANSITIVE\"):\n",
        "  return_dag = generate_DAG_skeleton_based_on_layer_config(list_of_number_vertices_in_each_layer)\n",
        "  num_edges = 0\n",
        "\n",
        "  if(mode == \"FULLY_TRANSITIVE\"):\n",
        "    layers = return_dag.layers\n",
        "    for source_layer_index in range(len(layers)):\n",
        "      for dest_layer_index in range(source_layer_index+1,len(layers)):\n",
        "        for src_vertex in layers[source_layer_index].list_of_vertices:\n",
        "          for dest_vertex in layers[dest_layer_index].list_of_vertices:\n",
        "            num_edges += 1\n",
        "            src_vertex.edges_out.append(dest_vertex)\n",
        "            dest_vertex.edges_in.append(src_vertex)\n",
        "  elif(mode == \"TRANSITIVE_AFTER_L0\"):\n",
        "    layers = return_dag.layers\n",
        "    for source_layer_index in range(len(layers)):\n",
        "      if(source_layer_index > 0):\n",
        "        for dest_layer_index in range(source_layer_index+1,len(layers)):\n",
        "          for src_vertex in layers[source_layer_index].list_of_vertices:\n",
        "            for dest_vertex in layers[dest_layer_index].list_of_vertices:\n",
        "              num_edges += 1\n",
        "              src_vertex.edges_out.append(dest_vertex)\n",
        "              dest_vertex.edges_in.append(src_vertex)\n",
        "      else:\n",
        "        dest_layer_index = source_layer_index+1\n",
        "        for src_vertex in layers[source_layer_index].list_of_vertices:\n",
        "            for dest_vertex in layers[dest_layer_index].list_of_vertices:\n",
        "              num_edges += 1\n",
        "              src_vertex.edges_out.append(dest_vertex)\n",
        "              dest_vertex.edges_in.append(src_vertex)\n",
        "    \n",
        "    return_dag.num_edges = num_edges\n",
        "  \n",
        "  return return_dag\n",
        "        "
      ],
      "metadata": {
        "id": "De4n3gGhMqE_"
      },
      "execution_count": null,
      "outputs": []
    },
    {
      "cell_type": "code",
      "source": [
        "def initialise_DP_nested_map(multi_stage_graph):\n",
        "  list_of_vertex_num = []\n",
        "  nested_dp_map = dict()\n",
        "  for each_layer in multi_stage_graph.layers:\n",
        "    for each_vertex in each_layer.list_of_vertices:\n",
        "      list_of_vertex_num.append(each_vertex.vertex_num)\n",
        "  \n",
        "  for i in list_of_vertex_num:\n",
        "    for j in list_of_vertex_num:\n",
        "      val = 0\n",
        "      if(i == j):\n",
        "        val = 1\n",
        "      if i in nested_dp_map:\n",
        "        nested_dp_map[i][j] = val\n",
        "      else:\n",
        "        nested_dp_map[i]=dict()\n",
        "        nested_dp_map[i][j] = val\n",
        "\n",
        "  return nested_dp_map"
      ],
      "metadata": {
        "id": "fEo6vJxjNVcy"
      },
      "execution_count": null,
      "outputs": []
    },
    {
      "cell_type": "code",
      "source": [
        "def number_of_paths_between_source_destination_in_multi_stage_graph(src_vertex_num,dest_vertex_num,multi_stage_graph,global_all_vertex_pair_DP):\n",
        "  # print(\"src_vertex_num: \"+str(src_vertex_num)+\" dest_vertex_num:\"+str(dest_vertex_num))\n",
        "  src_vertex = multi_stage_graph.vertex_num_vertex_obj_dict[src_vertex_num]\n",
        "  dest_vertex = multi_stage_graph.vertex_num_vertex_obj_dict[dest_vertex_num]\n",
        "  \n",
        "  if(global_all_vertex_pair_DP is None):\n",
        "    global_all_vertex_pair_DP =initialise_DP_nested_map(multi_stage_graph)\n",
        "\n",
        "  if(global_all_vertex_pair_DP[src_vertex.vertex_num][dest_vertex.vertex_num] != 0):\n",
        "    return global_all_vertex_pair_DP[src_vertex.vertex_num][dest_vertex.vertex_num]\n",
        "\n",
        "  dest_layer_num = dest_vertex.layer_num\n",
        "  if(dest_layer_num == 0):\n",
        "    return 0\n",
        "\n",
        "  for layer_num in range(dest_layer_num-1, -1, -1) :\n",
        "    list_of_vertices_in_previous_layer = multi_stage_graph.layers[layer_num].list_of_vertices\n",
        "    for each_previous_layer_vertex in list_of_vertices_in_previous_layer:\n",
        "      list_of_outgoing_edge_vertices = each_previous_layer_vertex.edges_out\n",
        "      if(global_all_vertex_pair_DP[each_previous_layer_vertex.vertex_num][dest_vertex.vertex_num] == 0):\n",
        "        for each_vertex in list_of_outgoing_edge_vertices:\n",
        "          global_all_vertex_pair_DP[each_previous_layer_vertex.vertex_num][dest_vertex.vertex_num] += global_all_vertex_pair_DP[each_vertex.vertex_num][dest_vertex.vertex_num]\n",
        "      \n",
        "      if(each_previous_layer_vertex == src_vertex):\n",
        "        # print(\"global_all_vertex_pair_DP:\"+str(global_all_vertex_pair_DP))\n",
        "        return global_all_vertex_pair_DP[each_previous_layer_vertex.vertex_num][dest_vertex.vertex_num]\n",
        "  return 0"
      ],
      "metadata": {
        "id": "tZwlxV9uivqq"
      },
      "execution_count": null,
      "outputs": []
    },
    {
      "cell_type": "code",
      "source": [
        "def num_paths_in_multi_stage_graph_source_to_sink(multi_stage_graph):\n",
        "  src_vertex_num = multi_stage_graph.layers[0].list_of_vertices[0].vertex_num\n",
        "  dest_vertex_num = multi_stage_graph.layers[len(multi_stage_graph.layers) - 1].list_of_vertices[0].vertex_num\n",
        "\n",
        "  return number_of_paths_between_source_destination_in_multi_stage_graph(src_vertex_num,dest_vertex_num,multi_stage_graph,None)"
      ],
      "metadata": {
        "id": "eGlCJCqgZDx0"
      },
      "execution_count": null,
      "outputs": []
    },
    {
      "cell_type": "code",
      "source": [
        "def number_of_paths_passing_through_edge_in_multi_stage_graph(u,v,multi_stage_graph,global_all_vertex_pair_DP):\n",
        "  src_vertex_num = multi_stage_graph.layers[0].list_of_vertices[0].vertex_num\n",
        "  dest_vertex_num = multi_stage_graph.layers[len(multi_stage_graph.layers)-1].list_of_vertices[0].vertex_num\n",
        "  \n",
        "  number_of_paths_reaching_edge = number_of_paths_between_source_destination_in_multi_stage_graph(src_vertex_num,u,multi_stage_graph,global_all_vertex_pair_DP)\n",
        "  number_of_paths_leaving_edge = number_of_paths_between_source_destination_in_multi_stage_graph(v,dest_vertex_num,multi_stage_graph,global_all_vertex_pair_DP)\n",
        "\n",
        "  return number_of_paths_reaching_edge * number_of_paths_leaving_edge"
      ],
      "metadata": {
        "id": "CkyoabDPV4Cw"
      },
      "execution_count": null,
      "outputs": []
    },
    {
      "cell_type": "code",
      "source": [
        "def remove_vertex_if_without_edges(vertexObj,multi_stage_graph):\n",
        "  if(len(vertexObj.edges_out) == 0 and len(vertexObj.edges_in) == 0):\n",
        "    # print(\"deleting: \"+str(vertexObj))\n",
        "    multi_stage_graph.layers[vertexObj.layer_num].list_of_vertices.remove(vertexObj)\n",
        "    del multi_stage_graph.vertex_num_vertex_obj_dict[vertexObj.vertex_num]\n",
        "    multi_stage_graph.num_vertices -= 1\n"
      ],
      "metadata": {
        "id": "X3qhiDmluStf"
      },
      "execution_count": null,
      "outputs": []
    },
    {
      "cell_type": "code",
      "source": [
        "def eliminate_edge_involving_least_paths_from_multi_stage_graph(multi_stage_graph,global_all_vertex_pair_DP,preserve_vertex_count,elimination_start_layer_indx=0):\n",
        "  least_path_edge_src = None\n",
        "  least_path_edge_dest = None\n",
        "  least_path_value = None\n",
        "  edge_path_dict = dict()\n",
        "  src_vertex = None\n",
        "  dest_vertex = None\n",
        "\n",
        "  for each_layer_indx in range(elimination_start_layer_indx,len(multi_stage_graph.layers)):\n",
        "    each_layer = multi_stage_graph.layers[each_layer_indx]\n",
        "    for each_vertex in each_layer.list_of_vertices:\n",
        "      for each_edge_dest in each_vertex.edges_out:\n",
        "        src_vertex_num = each_vertex.vertex_num\n",
        "        dest_vertex_num =  each_edge_dest.vertex_num\n",
        "        # print(\"uuuuuuuu src_vertex_num: \"+str(src_vertex_num)+\" dest_vertex_num:\"+str(dest_vertex_num))\n",
        "        if(preserve_vertex_count == False or (len(each_vertex.edges_out) > 1 and len(each_edge_dest.edges_in) > 1)):\n",
        "          if(least_path_edge_src is None):\n",
        "            least_path_edge_src = src_vertex_num\n",
        "            least_path_edge_dest = dest_vertex_num\n",
        "            least_path_value = number_of_paths_passing_through_edge_in_multi_stage_graph(src_vertex_num,dest_vertex_num,multi_stage_graph,global_all_vertex_pair_DP)\n",
        "            edge_path_dict[(src_vertex_num,dest_vertex_num)] = least_path_value\n",
        "          else:\n",
        "            path_value = number_of_paths_passing_through_edge_in_multi_stage_graph(src_vertex_num,dest_vertex_num,multi_stage_graph,global_all_vertex_pair_DP)\n",
        "            edge_path_dict[(src_vertex_num,dest_vertex_num)] = path_value\n",
        "            if(path_value < least_path_value):\n",
        "              least_path_edge_src = src_vertex_num\n",
        "              least_path_edge_dest = dest_vertex_num\n",
        "              least_path_value = path_value\n",
        "  \n",
        "  if(not(least_path_value is None) and not(least_path_edge_src is None) and not(least_path_edge_dest is None)):\n",
        "    src_vertex = multi_stage_graph.vertex_num_vertex_obj_dict[least_path_edge_src]\n",
        "    dest_vertex = multi_stage_graph.vertex_num_vertex_obj_dict[least_path_edge_dest]\n",
        "  \n",
        "  # Remove dest vertex from edge_out at src vertex and all other structures are updated accordingly\n",
        "  src_vertex.edges_out.remove(dest_vertex)\n",
        "  dest_vertex.edges_in.remove(src_vertex)\n",
        "  multi_stage_graph.num_edges -= 1\n",
        "\n",
        "  if(preserve_vertex_count == False):\n",
        "    remove_vertex_if_without_edges(src_vertex,multi_stage_graph)\n",
        "    remove_vertex_if_without_edges(dest_vertex,multi_stage_graph)\n",
        "\n",
        "  return src_vertex,dest_vertex,edge_path_dict\n",
        "\n",
        "\n"
      ],
      "metadata": {
        "id": "L7zPHoJCXcY7"
      },
      "execution_count": null,
      "outputs": []
    },
    {
      "cell_type": "code",
      "source": [
        "# display_mode= 'END_RESULT'=> Show end result in screen , 'WHL_EP_END\"=> Show all sequence steps on screen at once at end , \"ECH_EP\" => Each elimination is shown with time gap of 3 seconds\n",
        "def recurssively_eliminate_edges_in_DAG(layered_multi_stage_graph,target_num_of_edges,preserve_vertex_count=True,display_mode=\"END_RESULT\",elimination_start_layer_indx=0):\n",
        "  multi_stage_graph = copy.deepcopy(layered_multi_stage_graph)\n",
        "  list_of_removed_edge_tuples = []\n",
        "  list_of_render_episodes = []\n",
        "  edge_path_dict = None\n",
        "  global_all_vertex_pair_DP = initialise_DP_nested_map(multi_stage_graph)\n",
        "  final_render = None\n",
        "  title=\"\"\n",
        "  current_num_of_paths = 0\n",
        "\n",
        "  current_episode = RenderEpisode(multi_stage_graph,\"Before eliminations Paths:\"+str(num_paths_in_multi_stage_graph_source_to_sink(multi_stage_graph))+\" Edges:\"+str(multi_stage_graph.num_edges),[],{})\n",
        "  list_of_render_episodes.append(current_episode)\n",
        "  \n",
        "  current_num_of_edges = multi_stage_graph.num_edges\n",
        "  \n",
        "  while(current_num_of_edges > target_num_of_edges):\n",
        "    src_vertex,dest_vertex,edge_path_dict = eliminate_edge_involving_least_paths_from_multi_stage_graph(multi_stage_graph,global_all_vertex_pair_DP,preserve_vertex_count,elimination_start_layer_indx)\n",
        "    if(src_vertex is None or dest_vertex is None):\n",
        "      break\n",
        "    \n",
        "    list_of_removed_edge_tuples.append((src_vertex,dest_vertex))\n",
        "    current_num_of_edges = multi_stage_graph.num_edges\n",
        "    global_all_vertex_pair_DP = initialise_DP_nested_map(multi_stage_graph)\n",
        "    current_num_of_paths = num_paths_in_multi_stage_graph_source_to_sink(multi_stage_graph)\n",
        "\n",
        "    # print(\"current_num_of_edges: \"+str(current_num_of_edges)+\"  current_num_of_paths:\"+str(current_num_of_paths)+\" Vertices:\"+str(multi_stage_graph.num_vertices))\n",
        "    title = \"Paths:\"+str(current_num_of_paths)+\" Edges:\"+str(current_num_of_edges)+\" Vertices:\"+str(multi_stage_graph.num_vertices)\n",
        "    if(not(display_mode is None) and display_mode == \"ECH_EP\"):\n",
        "      render = render_layered_digraphs(multi_stage_graph,title,list_of_removed_edge_tuples,edge_path_dict)\n",
        "      display.display(render)\n",
        "      display.clear_output(wait=True)\n",
        "      sleep(3)\n",
        "  \n",
        "    current_episode = RenderEpisode(multi_stage_graph,title,list_of_removed_edge_tuples,edge_path_dict)\n",
        "    list_of_render_episodes.append(current_episode)\n",
        "  \n",
        "  current_episode = RenderEpisode(multi_stage_graph,\"After all eliminations \"+str(title),[],{})\n",
        "  list_of_render_episodes.append(current_episode)\n",
        "\n",
        "  final_render = render_layered_digraphs(multi_stage_graph,title,list_of_removed_edge_tuples,edge_path_dict)\n",
        "  if(not(display_mode is None) and (display_mode == \"END_RESULT\" or display_mode == \"ECH_EP\")):\n",
        "    display.clear_output(wait=True)\n",
        "    display.display(final_render)\n",
        "\n",
        "  whole_sequence_render = render_list_of_episodes_as_subgraph(list_of_render_episodes)\n",
        "  if(not(display_mode is None) and display_mode == \"WHL_EP_END\"):\n",
        "    display.display(whole_sequence_render)\n",
        "\n",
        "  return multi_stage_graph,list_of_removed_edge_tuples,edge_path_dict,whole_sequence_render,final_render"
      ],
      "metadata": {
        "id": "RuLU-w9Na5M7"
      },
      "execution_count": null,
      "outputs": []
    },
    {
      "cell_type": "code",
      "source": [
        "list_of_layer_config=[\n",
        "            [1,5,4,3,2,5,4,3,2,5,4,3,2,1],\n",
        "            [1,5,4,3,4,5,4,3,4,5,4,3,4,1],\n",
        "            [1,5,4,3,4,5,4,3,4,5,4,3,1],\n",
        "            [1,5,4,3,2,5,4,3,2,5,4,3,1],\n",
        "            [1,5,4,3,5,4,3,5,4,3,5,1],\n",
        "            [1,5,4,3,2,5,4,3,2,4,3,1],\n",
        "            [1,4,3,2,4,3,2,4,3,2,4,1],\n",
        "            [1,5,4,3,2,5,4,3,2,4,5,1],\n",
        "            [1,5,4,3,2,5,4,3,2,4,1,1],\n",
        "            [1,5,4,3,2,5,4,3,2,4,1],\n",
        "            [1,5,4,3,2,5,4,3,2,1,1],\n",
        "            [1,5,4,3,2,5,4,3,2,1],\n",
        "            [1,5,4,3,2,5,4,3,4,1],\n",
        "            [1,4,4,4,4,4,4,4,2,1],\n",
        "            [1,4,4,4,4,2,4,4,2,1],\n",
        "            [1,6,6,6,6,6,6,6,6,1],\n",
        "            [1,4,4,4,4,4,4,4,4,1],\n",
        "            [1,3,4,3,4,3,4,3,1],\n",
        "            [1,3,4,3,4,3,4,1],\n",
        "            [1,5,4,5,4,5,4,1],\n",
        "            [1,5,6,5,6,5,6,1] ,\n",
        "            [1,5,6,5,6,5,1],\n",
        "            [1,5,4,5,4,5,1],\n",
        "            [1,3,4,3,4,3,1],\n",
        "            [1,5,4,5,1] ,\n",
        "            [1,5,4,1]\n",
        "]"
      ],
      "metadata": {
        "id": "2egDpLm9sJBQ"
      },
      "execution_count": null,
      "outputs": []
    },
    {
      "cell_type": "code",
      "source": [
        "def append_write_or_create_write_to_csv_file(csv_file_name,row,fields):\n",
        "  my_file = Path(csv_file_name)\n",
        "  if my_file.is_file():\n",
        "    with open(csv_file_name, 'a') as csvfile:\n",
        "      # Pass this file object to csv.writer()\n",
        "      # and get a writer object\n",
        "      writer_object = csv.writer(csvfile)\n",
        "  \n",
        "      # Pass the list as an argument into\n",
        "      # the writerow()\n",
        "      writer_object.writerow(row)\n",
        "  \n",
        "      #Close the file object\n",
        "      csvfile.close()\n",
        "  else:\n",
        "    with open(csv_file_name, 'w') as csvfile: \n",
        "      # creating a csv writer object \n",
        "      csvwriter = csv.writer(csvfile) \n",
        "        \n",
        "      # writing the fields \n",
        "      csvwriter.writerow(fields) \n",
        "        \n",
        "      # writing the data rows \n",
        "      csvwriter.writerow(row)\n",
        "\n",
        "      csvfile.close()"
      ],
      "metadata": {
        "id": "pR3yqIVj1axD"
      },
      "execution_count": null,
      "outputs": []
    },
    {
      "cell_type": "code",
      "source": [
        "def run_elimination_save_all_results(layer_config,target_edges,preserve_vertex_count=True,conf_name=None,display_mode=None,save_whole_sequence=False,generate_mode=\"FULLY_TRANSITIVE\",elimination_start_layer_indx=0):\n",
        "  layered_dag = generate_DAG_based_on_layer_config(layer_config,generate_mode)\n",
        "  num_paths_before_elimination = num_paths_in_multi_stage_graph_source_to_sink(layered_dag)\n",
        "  postfix_save_file = '_conf'\n",
        "  conf_folder_name = 'root/outputs/target_edge_'+str(target_edges)\n",
        "  postfix_folder_name = \"\"\n",
        "  if(conf_name is None):\n",
        "    for each_conf in layer_config:\n",
        "      postfix_folder_name += '_'+str(each_conf)\n",
        "  else:\n",
        "    postfix_folder_name += conf_name\n",
        "  \n",
        "  postfix_save_file += postfix_folder_name\n",
        "  postfix_save_file += '_ed_'+str(layered_dag.num_edges)+'_pt_'+str(num_paths_before_elimination)\n",
        "\n",
        "  before_elimination_render = render_layered_digraphs(layered_dag,\"Paths:\"+str(num_paths_before_elimination)+\" Edges:\"+str(layered_dag.num_edges)+\" Vertices:\"+str(layered_dag.num_vertices))\n",
        "\n",
        "  eliminated_graph,list_of_removed_edge_tuples,edge_path_dict,whole_sequence_render,final_render = recurssively_eliminate_edges_in_DAG(layered_dag,target_edges,preserve_vertex_count,display_mode,elimination_start_layer_indx)\n",
        "  num_paths_after_elimination = num_paths_in_multi_stage_graph_source_to_sink(eliminated_graph)\n",
        "  \n",
        "  conf_folder_name += \"/pt_aft_elim_\"+str(num_paths_after_elimination)\n",
        "  conf_folder_name += \"/conf\" + str(postfix_folder_name)\n",
        "\n",
        "  before_elimination_render.render(filename = str(conf_folder_name)+'/before_elimination_render_'+str(postfix_save_file))\n",
        "  final_render.render(filename = str(conf_folder_name)+'/after_elim_final_render_'+str(postfix_save_file))\n",
        "\n",
        "  after_elimination_render = render_layered_digraphs(eliminated_graph,\"Paths:\"+str(num_paths_after_elimination)+\" Edges:\"+str(eliminated_graph.num_edges)+\" Vertices:\"+str(eliminated_graph.num_vertices))\n",
        "  after_elimination_render.render(filename = str(conf_folder_name)+'/after_elimination_render_'+str(postfix_save_file))\n",
        "  if(save_whole_sequence == True):\n",
        "    whole_sequence_render.render(filename = str(conf_folder_name)+'/elimination_sequence_render_'+str(postfix_save_file))\n",
        "\n",
        "  csv_file_name = 'root/outputs/target_edge_'+str(target_edges)+\"/info_target_edge_\"+str(target_edges)+\".csv\"\n",
        "  row = [str(layer_config),num_paths_before_elimination,layered_dag.num_edges,layered_dag.num_vertices,num_paths_after_elimination,eliminated_graph.num_edges,eliminated_graph.num_vertices]\n",
        "  fields = ['Config','Paths_before_elimination', 'Edges_before_elimination', 'Vertices_before_elimination', 'Paths_after_elimination','Edges_after_elimination','Vertices_after_elimination'] \n",
        "  \n",
        "  append_write_or_create_write_to_csv_file(csv_file_name,row,fields)\n",
        "\n",
        "\n",
        "  return num_paths_before_elimination,layered_dag.num_edges,layered_dag.num_vertices,num_paths_after_elimination,eliminated_graph.num_edges,eliminated_graph.num_vertices"
      ],
      "metadata": {
        "id": "FoE1Iv063kXz"
      },
      "execution_count": null,
      "outputs": []
    },
    {
      "cell_type": "code",
      "source": [
        "def run_elimination_over_partial_DNN_config(Din,d,k,preserve_vertex_count=True,conf_name=None,display_mode=None,save_whole_sequence=False):\n",
        "  target_edges = (Din + 1)*d + (k-1)*d*d\n",
        "  print(\"target_edges:\"+str(target_edges))\n",
        "  conf_name = \"_DNN_Din\"+str(Din)+\"_d_\"+str(d)+\"_k_\"+str(k)\n",
        "  temp = [1] *(d*k+1)\n",
        "  layer_config = [1,Din]\n",
        "  layer_config+= (temp)\n",
        "  run_elimination_save_all_results(layer_config,target_edges,preserve_vertex_count,conf_name,display_mode,generate_mode=\"TRANSITIVE_AFTER_L0\",elimination_start_layer_indx=1)"
      ],
      "metadata": {
        "id": "jgMUxDp5y4If"
      },
      "execution_count": null,
      "outputs": []
    },
    {
      "cell_type": "code",
      "source": [
        "# run_elimination_over_partial_DNN_config(6,2,2,preserve_vertex_count=True,display_mode = \"WHL_EP_END\",save_whole_sequence=True)\n",
        "run_elimination_over_partial_DNN_config(784,2,2,preserve_vertex_count=True)"
      ],
      "metadata": {
        "colab": {
          "base_uri": "https://localhost:8080/"
        },
        "id": "d3h46hAFXfG2",
        "outputId": "a3fa24e6-2b61-4e9d-c6ab-f883addebc67"
      },
      "execution_count": null,
      "outputs": [
        {
          "output_type": "stream",
          "name": "stdout",
          "text": [
            "target_edges:1574\n"
          ]
        }
      ]
    },
    {
      "cell_type": "code",
      "source": [
        "def run_elimination_save_all_results_on_different_configs(list_of_layer_config,target_edges,preserve_vertex_count,conf_name=None,display_mode=None,save_whole_sequence=False):\n",
        "  for each_layer_config in list_of_layer_config:\n",
        "    run_elimination_save_all_results(each_layer_config,target_edges,preserve_vertex_count,conf_name,display_mode,save_whole_sequence)\n",
        "    print(\"Completed running layer_config:\"+str(each_layer_config))"
      ],
      "metadata": {
        "id": "88DtOymTEAoc"
      },
      "execution_count": null,
      "outputs": []
    },
    {
      "cell_type": "code",
      "source": [
        "# run_elimination_save_all_results_on_different_configs([[1,1,1,1,1,1,1,1,1,1]],11,True,None)"
      ],
      "metadata": {
        "id": "iG3k4312EWyL"
      },
      "execution_count": null,
      "outputs": []
    },
    {
      "cell_type": "code",
      "source": [
        "def run_elimination_on_various_E_by_N_ratios_over_transitive_graphs(fixed_num_edges,list_of_EN_ratios=[1,2,3,4,5,6,7,8,9,10],display_mode=None,save_whole_sequence=False):\n",
        "  preserved_case_return_val = []\n",
        "  non_preserved_case_return_val = []\n",
        "  standard_DNN_num_paths = []\n",
        "  for each_EN_ratio in list_of_EN_ratios:\n",
        "    current_num_vertex = math.ceil(fixed_num_edges/each_EN_ratio)\n",
        "    current_config = [1] * current_num_vertex\n",
        "    \n",
        "    conf_name = \"_nopres_trnsitive_\"+str(current_num_vertex)\n",
        "    no_pres_pt_bef_el,no_pres_ed_bef_el,no_pres_v_bef_el,no_pres_pt_aft_el,no_pres_ed_aft_el,no_pres_v_aft_el = run_elimination_save_all_results(current_config,fixed_num_edges,False,conf_name,display_mode,save_whole_sequence)\n",
        "    non_preserved_case_return_val.append([no_pres_pt_bef_el,no_pres_ed_bef_el,no_pres_v_bef_el,no_pres_pt_aft_el,no_pres_ed_aft_el,no_pres_v_aft_el])\n",
        "    \n",
        "    conf_name = \"_pres_trnsitive_\"+str(current_num_vertex)\n",
        "    if(no_pres_v_bef_el == no_pres_v_aft_el):\n",
        "      preserved_case_return_val.append([no_pres_pt_bef_el,no_pres_ed_bef_el,no_pres_v_bef_el,no_pres_pt_aft_el,no_pres_ed_aft_el,no_pres_v_aft_el])\n",
        "    else:\n",
        "      pres_pt_bef_el,pres_ed_bef_el,pres_v_bef_el,pres_pt_aft_el,pres_ed_aft_el,pres_v_aft_el = run_elimination_save_all_results(current_config,fixed_num_edges,True,conf_name,display_mode,save_whole_sequence)\n",
        "      preserved_case_return_val.append([pres_pt_bef_el,pres_ed_bef_el,pres_v_bef_el,pres_pt_aft_el,pres_ed_aft_el,pres_v_aft_el])\n",
        "    \n",
        "    \n",
        "    current_num_paths_in_std_dnn = math.pow(each_EN_ratio,math.ceil((current_num_vertex - 2)/each_EN_ratio))\n",
        "    standard_DNN_num_paths.append(current_num_paths_in_std_dnn)\n",
        "\n",
        "    print(\"Completed running layer_config:\"+str(current_config)+\" config:\"+str(conf_name))\n",
        "  \n",
        "  # diamond_shape_num_paths = math.pow(3,math.ceil(fixed_num_edges/3))\n",
        "  \n",
        "  return list_of_EN_ratios,preserved_case_return_val,non_preserved_case_return_val,standard_DNN_num_paths"
      ],
      "metadata": {
        "id": "W9tW96Md00oa"
      },
      "execution_count": null,
      "outputs": []
    },
    {
      "cell_type": "code",
      "source": [
        "# list_of_EN_ratios,preserved_case_return_val,non_preserved_case_return_val,standard_DNN_num_paths,diamond_shape_num_paths = run_elimination_on_various_E_by_N_ratios_over_transitive_graphs(30)"
      ],
      "metadata": {
        "id": "aWbBjm0J37O7"
      },
      "execution_count": null,
      "outputs": []
    },
    {
      "cell_type": "code",
      "source": [
        "def generate_point_label_and_paths(list_of_values):\n",
        "  list_data_point_label = []\n",
        "  list_paths = []\n",
        "  for each_sublist in list_of_values:\n",
        "    current_label = \"BP:\"+str(each_sublist[0])+\"_BE:\"+str(each_sublist[1])+\"_BV:\"+str(each_sublist[2])+\"_AP\"+str(each_sublist[3])+\"_AE\"+str(each_sublist[4])+\"_AV\"+str(each_sublist[5])\n",
        "    list_data_point_label.append(current_label)\n",
        "    list_paths.append(each_sublist[3])\n",
        "  \n",
        "  return list_data_point_label,list_paths"
      ],
      "metadata": {
        "id": "SLgDhiIuYOXb"
      },
      "execution_count": null,
      "outputs": []
    },
    {
      "cell_type": "code",
      "source": [
        "def plot_path_comparision_over_EN_ratios(list_of_EN_ratios,list_preserved_val,list_non_preserved_val,list_standard_DNN_num_paths,target_num_of_edges):\n",
        "  fig = plt.figure(figsize=(20,18))\n",
        "  # fig.set_size_inches(18.5, 10.5)\n",
        "  \n",
        "  x = list_of_EN_ratios\n",
        "  list_data_pt_pres,y_pres = generate_point_label_and_paths(list_preserved_val)\n",
        "  print(\"Paths using preserved setting\"+str(y_pres))\n",
        "  \n",
        "  list_data_pt_non_pres,y_non_pres = generate_point_label_and_paths(list_non_preserved_val)\n",
        "  print(\"Number of paths in non-preserved setting\"+str(y_non_pres))\n",
        "  \n",
        "  y_std_dnn = list_standard_DNN_num_paths\n",
        "\n",
        "  # y_diamond = [diamond_shape_num_paths] * len(list_of_EN_ratios)\n",
        "\n",
        "  plt.plot(x, y_pres, label = \"Preserving ratio\")\n",
        "  \n",
        "  for x_indx,each_x in  enumerate(x):\n",
        "    y = y_pres[x_indx]\n",
        "    data_point_label = list_data_pt_pres[x_indx]\n",
        "    plt.annotate('(%s, %s)' % (each_x,data_point_label), xy=(each_x,y), textcoords='data')\n",
        "\n",
        "  plt.plot(x, y_non_pres, label = \"Not preserving vertex ratio\")\n",
        "\n",
        "  # plt.plot(x, y_diamond, label = \"Diamond shaped case\")\n",
        "\n",
        "  plt.plot(x, y_std_dnn, label = \"Standard DNN\")\n",
        "  \n",
        "  plt.xticks(list_of_EN_ratios)\n",
        "\n",
        "  plt.xlabel('E/N ratios')\n",
        "  # naming the y axis\n",
        "  plt.ylabel('Number of paths')\n",
        "  # giving a title to my graph\n",
        "  plt.title('Number of paths vs E/N ratios for target-edge:'+str(target_num_of_edges))\n",
        "  plt.grid()\n",
        "\n",
        "  # show a legend on the plot\n",
        "  plt.legend()\n",
        "  \n",
        "  plt.savefig('root/plots/target_edge_'+str(target_num_of_edges)+'.png')\n",
        "  plt.savefig('root/plots/target_edge_'+str(target_num_of_edges)+'.pdf')\n",
        "\n",
        "  display.display(plt)\n",
        "  sleep(3)\n",
        "  display.clear_output(wait=True)\n",
        "  # plt.show()\n",
        "  return plt\n"
      ],
      "metadata": {
        "id": "ZYWIT0IcXY7q"
      },
      "execution_count": null,
      "outputs": []
    },
    {
      "cell_type": "code",
      "source": [
        "def plot_path_comparision_over_EN_ratios_for_different_configs(list_of_target_edges,list_of_EN_ratios=[1,2,3,4,5,6,7,8,9,10],display_mode=None,save_whole_sequence=False):\n",
        "  for each_target_edge in list_of_target_edges:\n",
        "    print(\"++++++++++++++++++++++++++++++++++++++++++++++++++++ Beginning to compute paths for target_edge:\"+str(each_target_edge))\n",
        "    list_of_EN_ratios,preserved_case_return_val,non_preserved_case_return_val,standard_DNN_num_paths = run_elimination_on_various_E_by_N_ratios_over_transitive_graphs(each_target_edge,list_of_EN_ratios,display_mode,save_whole_sequence)\n",
        "    plot_path_comparision_over_EN_ratios(list_of_EN_ratios,preserved_case_return_val,non_preserved_case_return_val,standard_DNN_num_paths,each_target_edge)\n",
        "    print(\"==================================================== Completed to compute paths for target_edge:\"+str(each_target_edge))\n"
      ],
      "metadata": {
        "id": "JUeLhaM4jCeW"
      },
      "execution_count": null,
      "outputs": []
    },
    {
      "cell_type": "code",
      "source": [
        "plot_path_comparision_over_EN_ratios_for_different_configs([48,51,54,57,60,63,66,69,72,75,78,81,84],[1.5,2,2.5,3,4,5,6,7,8,9,10])"
      ],
      "metadata": {
        "id": "-0Ldnl86jcva"
      },
      "execution_count": null,
      "outputs": []
    },
    {
      "cell_type": "code",
      "source": [
        "!zip -r /content/experiments-Din_k_d.zip /content/root"
      ],
      "metadata": {
        "colab": {
          "base_uri": "https://localhost:8080/"
        },
        "id": "cRkR3GMzl0m2",
        "outputId": "4a7855e0-e0a5-4fe5-83a7-c969fab5410b"
      },
      "execution_count": null,
      "outputs": [
        {
          "output_type": "stream",
          "name": "stdout",
          "text": [
            "  adding: content/root/ (stored 0%)\n",
            "  adding: content/root/outputs/ (stored 0%)\n",
            "  adding: content/root/outputs/target_edge_1574/ (stored 0%)\n",
            "  adding: content/root/outputs/target_edge_1574/info_target_edge_1574.csv (deflated 50%)\n",
            "  adding: content/root/outputs/target_edge_1574/pt_aft_elim_3136/ (stored 0%)\n",
            "  adding: content/root/outputs/target_edge_1574/pt_aft_elim_3136/conf_DNN_Din784_d_2_k_2/ (stored 0%)\n",
            "  adding: content/root/outputs/target_edge_1574/pt_aft_elim_3136/conf_DNN_Din784_d_2_k_2/after_elim_final_render__conf_DNN_Din784_d_2_k_2_ed_4714_pt_12544.pdf (deflated 0%)\n",
            "  adding: content/root/outputs/target_edge_1574/pt_aft_elim_3136/conf_DNN_Din784_d_2_k_2/after_elim_final_render__conf_DNN_Din784_d_2_k_2_ed_4714_pt_12544 (deflated 87%)\n",
            "  adding: content/root/outputs/target_edge_1574/pt_aft_elim_3136/conf_DNN_Din784_d_2_k_2/before_elimination_render__conf_DNN_Din784_d_2_k_2_ed_4714_pt_12544.pdf (deflated 1%)\n",
            "  adding: content/root/outputs/target_edge_1574/pt_aft_elim_3136/conf_DNN_Din784_d_2_k_2/before_elimination_render__conf_DNN_Din784_d_2_k_2_ed_4714_pt_12544 (deflated 88%)\n",
            "  adding: content/root/outputs/target_edge_1574/pt_aft_elim_3136/conf_DNN_Din784_d_2_k_2/after_elimination_render__conf_DNN_Din784_d_2_k_2_ed_4714_pt_12544 (deflated 85%)\n",
            "  adding: content/root/outputs/target_edge_1574/pt_aft_elim_3136/conf_DNN_Din784_d_2_k_2/after_elimination_render__conf_DNN_Din784_d_2_k_2_ed_4714_pt_12544.pdf (deflated 4%)\n",
            "  adding: content/root/outputs/target_edge_18/ (stored 0%)\n",
            "  adding: content/root/outputs/target_edge_18/pt_aft_elim_24/ (stored 0%)\n",
            "  adding: content/root/outputs/target_edge_18/pt_aft_elim_24/conf_DNN_Din6_d_2_k_2/ (stored 0%)\n",
            "  adding: content/root/outputs/target_edge_18/pt_aft_elim_24/conf_DNN_Din6_d_2_k_2/after_elimination_render__conf_DNN_Din6_d_2_k_2_ed_46_pt_96 (deflated 69%)\n",
            "  adding: content/root/outputs/target_edge_18/pt_aft_elim_24/conf_DNN_Din6_d_2_k_2/after_elim_final_render__conf_DNN_Din6_d_2_k_2_ed_46_pt_96.pdf (deflated 6%)\n",
            "  adding: content/root/outputs/target_edge_18/pt_aft_elim_24/conf_DNN_Din6_d_2_k_2/before_elimination_render__conf_DNN_Din6_d_2_k_2_ed_46_pt_96 (deflated 80%)\n",
            "  adding: content/root/outputs/target_edge_18/pt_aft_elim_24/conf_DNN_Din6_d_2_k_2/after_elim_final_render__conf_DNN_Din6_d_2_k_2_ed_46_pt_96 (deflated 77%)\n",
            "  adding: content/root/outputs/target_edge_18/pt_aft_elim_24/conf_DNN_Din6_d_2_k_2/after_elimination_render__conf_DNN_Din6_d_2_k_2_ed_46_pt_96.pdf (deflated 8%)\n",
            "  adding: content/root/outputs/target_edge_18/pt_aft_elim_24/conf_DNN_Din6_d_2_k_2/before_elimination_render__conf_DNN_Din6_d_2_k_2_ed_46_pt_96.pdf (deflated 6%)\n",
            "  adding: content/root/outputs/target_edge_18/pt_aft_elim_25/ (stored 0%)\n",
            "  adding: content/root/outputs/target_edge_18/pt_aft_elim_25/conf_DNN_Din6_d_2_k_2/ (stored 0%)\n",
            "  adding: content/root/outputs/target_edge_18/pt_aft_elim_25/conf_DNN_Din6_d_2_k_2/after_elimination_render__conf_DNN_Din6_d_2_k_2_ed_46_pt_96 (deflated 69%)\n",
            "  adding: content/root/outputs/target_edge_18/pt_aft_elim_25/conf_DNN_Din6_d_2_k_2/after_elim_final_render__conf_DNN_Din6_d_2_k_2_ed_46_pt_96.pdf (deflated 6%)\n",
            "  adding: content/root/outputs/target_edge_18/pt_aft_elim_25/conf_DNN_Din6_d_2_k_2/before_elimination_render__conf_DNN_Din6_d_2_k_2_ed_46_pt_96 (deflated 80%)\n",
            "  adding: content/root/outputs/target_edge_18/pt_aft_elim_25/conf_DNN_Din6_d_2_k_2/after_elim_final_render__conf_DNN_Din6_d_2_k_2_ed_46_pt_96 (deflated 77%)\n",
            "  adding: content/root/outputs/target_edge_18/pt_aft_elim_25/conf_DNN_Din6_d_2_k_2/after_elimination_render__conf_DNN_Din6_d_2_k_2_ed_46_pt_96.pdf (deflated 8%)\n",
            "  adding: content/root/outputs/target_edge_18/pt_aft_elim_25/conf_DNN_Din6_d_2_k_2/before_elimination_render__conf_DNN_Din6_d_2_k_2_ed_46_pt_96.pdf (deflated 6%)\n",
            "  adding: content/root/outputs/target_edge_18/info_target_edge_18.csv (deflated 64%)\n",
            "  adding: content/root/outputs/target_edge_20/ (stored 0%)\n",
            "  adding: content/root/outputs/target_edge_20/info_target_edge_20.csv (deflated 52%)\n",
            "  adding: content/root/outputs/target_edge_20/pt_aft_elim_28/ (stored 0%)\n",
            "  adding: content/root/outputs/target_edge_20/pt_aft_elim_28/conf_DNN_Din7_d_2_k_2/ (stored 0%)\n",
            "  adding: content/root/outputs/target_edge_20/pt_aft_elim_28/conf_DNN_Din7_d_2_k_2/after_elim_final_render__conf_DNN_Din7_d_2_k_2_ed_52_pt_112 (deflated 78%)\n",
            "  adding: content/root/outputs/target_edge_20/pt_aft_elim_28/conf_DNN_Din7_d_2_k_2/after_elimination_render__conf_DNN_Din7_d_2_k_2_ed_52_pt_112 (deflated 70%)\n",
            "  adding: content/root/outputs/target_edge_20/pt_aft_elim_28/conf_DNN_Din7_d_2_k_2/before_elimination_render__conf_DNN_Din7_d_2_k_2_ed_52_pt_112.pdf (deflated 6%)\n",
            "  adding: content/root/outputs/target_edge_20/pt_aft_elim_28/conf_DNN_Din7_d_2_k_2/before_elimination_render__conf_DNN_Din7_d_2_k_2_ed_52_pt_112 (deflated 80%)\n",
            "  adding: content/root/outputs/target_edge_20/pt_aft_elim_28/conf_DNN_Din7_d_2_k_2/after_elim_final_render__conf_DNN_Din7_d_2_k_2_ed_52_pt_112.pdf (deflated 6%)\n",
            "  adding: content/root/outputs/target_edge_20/pt_aft_elim_28/conf_DNN_Din7_d_2_k_2/after_elimination_render__conf_DNN_Din7_d_2_k_2_ed_52_pt_112.pdf (deflated 8%)\n",
            "  adding: content/root/outputs/target_edge_16/ (stored 0%)\n",
            "  adding: content/root/outputs/target_edge_16/pt_aft_elim_20/ (stored 0%)\n",
            "  adding: content/root/outputs/target_edge_16/pt_aft_elim_20/conf_DNN_Din5_d_2_k_2/ (stored 0%)\n",
            "  adding: content/root/outputs/target_edge_16/pt_aft_elim_20/conf_DNN_Din5_d_2_k_2/after_elim_final_render__conf_DNN_Din5_d_2_k_2_ed_40_pt_80.pdf (deflated 6%)\n",
            "  adding: content/root/outputs/target_edge_16/pt_aft_elim_20/conf_DNN_Din5_d_2_k_2/after_elimination_render__conf_DNN_Din5_d_2_k_2_ed_40_pt_80.pdf (deflated 8%)\n",
            "  adding: content/root/outputs/target_edge_16/pt_aft_elim_20/conf_DNN_Din5_d_2_k_2/after_elim_final_render__conf_DNN_Din5_d_2_k_2_ed_40_pt_80 (deflated 75%)\n",
            "  adding: content/root/outputs/target_edge_16/pt_aft_elim_20/conf_DNN_Din5_d_2_k_2/after_elimination_render__conf_DNN_Din5_d_2_k_2_ed_40_pt_80 (deflated 67%)\n",
            "  adding: content/root/outputs/target_edge_16/pt_aft_elim_20/conf_DNN_Din5_d_2_k_2/before_elimination_render__conf_DNN_Din5_d_2_k_2_ed_40_pt_80 (deflated 78%)\n",
            "  adding: content/root/outputs/target_edge_16/pt_aft_elim_20/conf_DNN_Din5_d_2_k_2/before_elimination_render__conf_DNN_Din5_d_2_k_2_ed_40_pt_80.pdf (deflated 7%)\n",
            "  adding: content/root/outputs/target_edge_16/info_target_edge_16.csv (deflated 53%)\n"
          ]
        }
      ]
    },
    {
      "cell_type": "code",
      "source": [
        ""
      ],
      "metadata": {
        "id": "6QGMBjE8Qhgs"
      },
      "execution_count": null,
      "outputs": []
    }
  ]
}